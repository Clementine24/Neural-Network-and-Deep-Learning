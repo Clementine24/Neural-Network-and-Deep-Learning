{
 "cells": [
  {
   "cell_type": "code",
   "execution_count": 1,
   "id": "be0e2b37",
   "metadata": {},
   "outputs": [],
   "source": [
    "import numpy as np\n",
    "import random\n",
    "import matplotlib.pyplot as plt\n",
    "import os\n",
    "import pickle as pkl"
   ]
  },
  {
   "cell_type": "code",
   "execution_count": 2,
   "id": "b2e37640",
   "metadata": {},
   "outputs": [],
   "source": [
    "def get_char_and_index_map():\n",
    "\tpath = \"../../data/oracle_fs/seq/char_to_idx.txt\"\n",
    "\twith open(path, encoding=\"utf-8\") as f:\n",
    "\t\tidx2char = f.readline()\n",
    "\tchar2idx = {char: idx for idx, char in enumerate(idx2char)}\n",
    "\treturn idx2char, char2idx"
   ]
  },
  {
   "cell_type": "code",
   "execution_count": 3,
   "id": "148ff367",
   "metadata": {},
   "outputs": [],
   "source": [
    "def strokes_to_lines(strokes):\n",
    "    \"\"\"Convert stroke-3 format to polyline format.\"\"\"\n",
    "    x = 0\n",
    "    y = 0\n",
    "    lines = []\n",
    "    line = []\n",
    "\n",
    "    for i in range(len(strokes)):\n",
    "        if strokes[i, 2] == 1:\n",
    "            x += float(strokes[i, 0])\n",
    "            y += float(strokes[i, 1])\n",
    "            line.append([x, y])\n",
    "            lines.append(line)\n",
    "            line = []\n",
    "        else:\n",
    "            x += float(strokes[i, 0])\n",
    "            y += float(strokes[i, 1])\n",
    "            line.append([x, y])\n",
    "    return lines\n",
    "\n",
    "def show_one_sample(strokes, linewidth=1):\n",
    "    lines = strokes_to_lines(strokes)\n",
    "    for idx in range(0, len(lines)):\n",
    "        x = [x[0] for x in lines[idx]]\n",
    "        y = [y[1] for y in lines[idx]]\n",
    "        plt.plot(x, y, 'k-', linewidth=linewidth)\n",
    "\n",
    "    ax = plt.gca()\n",
    "    plt.xticks([])\n",
    "    plt.yticks([])\n",
    "    ax.xaxis.set_ticks_position('top')\n",
    "    ax.invert_yaxis()"
   ]
  },
  {
   "cell_type": "code",
   "execution_count": 4,
   "id": "06b852fb",
   "metadata": {},
   "outputs": [
    {
     "data": {
      "text/plain": [
       "'杏'"
      ]
     },
     "execution_count": 4,
     "metadata": {},
     "output_type": "execute_result"
    }
   ],
   "source": [
    "idx2char, char2idx = get_char_and_index_map()\n",
    "idx2char[4]"
   ]
  },
  {
   "cell_type": "code",
   "execution_count": 5,
   "id": "31a72080",
   "metadata": {},
   "outputs": [],
   "source": [
    "data_paths = [\n",
    "#     f'testOracleDataset/npz/oracle_source_seq.npz'\n",
    "    f'testOracleDataset/npz/{i}.npz' for i in range(200)\n",
    "]"
   ]
  },
  {
   "cell_type": "code",
   "execution_count": 6,
   "id": "747f7cad",
   "metadata": {},
   "outputs": [
    {
     "data": {
      "image/png": "[encoded data removed]",
      "text/plain": [
       "<Figure size 432x288 with 1 Axes>"
      ]
     },
     "metadata": {},
     "output_type": "display_data"
    }
   ],
   "source": [
    "data = np.load(data_paths[0], encoding='latin1', allow_pickle=True)\n",
    "show_one_sample(data[\"test\"][3])"
   ]
  },
  {
   "cell_type": "code",
   "execution_count": 8,
   "id": "e408a5f4",
   "metadata": {},
   "outputs": [],
   "source": [
    "offsets = {'train': {}, 'valid': {}}\n",
    "modes = ['train', 'test']\n",
    "cls_name = \"source\"\n",
    "save_dir = 'testOracleDataset/dat' #simple_memmap\n",
    "ff = open('testOracleDataset/memmap_sum.txt','w')\n",
    "load_file = {'full':ff}"
   ]
  },
  {
   "cell_type": "code",
   "execution_count": 9,
   "id": "edd9d9b1",
   "metadata": {},
   "outputs": [],
   "source": [
    "for i, path in enumerate(data_paths):\n",
    "    cls_name = str(i)\n",
    "    data = np.load(path, encoding='latin1', allow_pickle=True)\n",
    "    tmp_num = 0\n",
    "    for mode in modes:\n",
    "        tmp_data = []\n",
    "\n",
    "        data_mode = data[mode]\n",
    "        if mode == \"test\":\n",
    "#             data_mode = data[\"train\"]\n",
    "            mode = \"valid\"\n",
    "        for sketch in data_mode:\n",
    "            tmp_data.append(sketch)\n",
    "        save_path = os.path.join(save_dir, '{}_{}.dat'.format(cls_name,mode))\n",
    "        offsets[mode][cls_name] = []\n",
    "        start = 0\n",
    "        max_len = 0\n",
    "        len_record = []\n",
    "        for sketch in tmp_data:\n",
    "            if len(sketch.shape) != 2 or sketch.shape[1] != 3:\n",
    "                print(sketch)\n",
    "                continue\n",
    "            end = start + sketch.shape[0]\n",
    "            len_record.append(sketch.shape[0])\n",
    "            max_len = max(max_len, sketch.shape[0])\n",
    "            offsets[mode][cls_name].append((start, end))\n",
    "            start = end\n",
    "        len_record = np.array(len_record)\n",
    "        tmp_num += len(tmp_data)\n",
    "        \n",
    "        stack_data = np.concatenate(tmp_data, axis=0)\n",
    "        tmp_memmap = np.memmap(save_path, dtype=np.int16, mode='write', shape=stack_data.shape)\n",
    "        tmp_memmap[:] = stack_data[:]\n",
    "        tmp_memmap.flush()\n",
    "    \n",
    "    load_file['full'].write(f\"{save_dir}/{cls_name}.dat\\t{tmp_num}\\n\")\n",
    "    with open('testOracleDataset/offsets.npz','wb') as f:\n",
    "        pkl.dump(offsets, f)"
   ]
  },
  {
   "cell_type": "code",
   "execution_count": 10,
   "id": "d9cfdf01",
   "metadata": {},
   "outputs": [],
   "source": [
    "ff.close()"
   ]
  },
  {
   "cell_type": "code",
   "execution_count": null,
   "id": "1b444a02",
   "metadata": {},
   "outputs": [],
   "source": []
  }
 ],
 "metadata": {
  "kernelspec": {
   "display_name": "Python 3 (ipykernel)",
   "language": "python",
   "name": "python3"
  },
  "language_info": {
   "codemirror_mode": {
    "name": "ipython",
    "version": 3
   },
   "file_extension": ".py",
   "mimetype": "text/x-python",
   "name": "python",
   "nbconvert_exporter": "python",
   "pygments_lexer": "ipython3",
   "version": "3.8.12"
  }
 },
 "nbformat": 4,
 "nbformat_minor": 5
}
